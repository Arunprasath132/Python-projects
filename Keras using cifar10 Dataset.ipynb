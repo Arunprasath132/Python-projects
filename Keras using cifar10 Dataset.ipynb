{
  "nbformat": 4,
  "nbformat_minor": 0,
  "metadata": {
    "colab": {
      "provenance": []
    },
    "kernelspec": {
      "name": "python3",
      "display_name": "Python 3"
    },
    "language_info": {
      "name": "python"
    }
  },
  "cells": [
    {
      "cell_type": "code",
      "source": [
        "#Import libarary"
      ],
      "metadata": {
        "id": "JLyN8DVcCPwk"
      },
      "execution_count": null,
      "outputs": []
    },
    {
      "cell_type": "code",
      "source": [
        "from tensorflow import keras"
      ],
      "metadata": {
        "id": "_VXLQ2ptCTf4"
      },
      "execution_count": null,
      "outputs": []
    },
    {
      "cell_type": "code",
      "source": [
        "import numpy as np"
      ],
      "metadata": {
        "id": "Bw5jNggdCX98"
      },
      "execution_count": null,
      "outputs": []
    },
    {
      "cell_type": "code",
      "source": [
        "import tensorflow as tf"
      ],
      "metadata": {
        "id": "vljCzTCxCbEY"
      },
      "execution_count": null,
      "outputs": []
    },
    {
      "cell_type": "code",
      "source": [
        "from matplotlib import pyplot as plt"
      ],
      "metadata": {
        "id": "QIGLlMmsCedO"
      },
      "execution_count": null,
      "outputs": []
    },
    {
      "cell_type": "code",
      "source": [
        "tf.keras.datasets"
      ],
      "metadata": {
        "colab": {
          "base_uri": "https://localhost:8080/"
        },
        "id": "P-vxncroCkR-",
        "outputId": "45495f2b-1a86-4222-aae3-7f0bcbf776be"
      },
      "execution_count": null,
      "outputs": [
        {
          "output_type": "execute_result",
          "data": {
            "text/plain": [
              "<module 'keras.api._v2.keras.datasets' from '/usr/local/lib/python3.10/dist-packages/keras/api/_v2/keras/datasets/__init__.py'>"
            ]
          },
          "metadata": {},
          "execution_count": 6
        }
      ]
    },
    {
      "cell_type": "code",
      "source": [
        "from keras.datasets import cifar10"
      ],
      "metadata": {
        "id": "lmyYODAtDJRD"
      },
      "execution_count": null,
      "outputs": []
    },
    {
      "cell_type": "code",
      "source": [
        "data = cifar10.load_data()"
      ],
      "metadata": {
        "colab": {
          "base_uri": "https://localhost:8080/"
        },
        "id": "4cpQLBYdDPJn",
        "outputId": "a444093b-8ba4-43ef-eb5c-3c032716e109"
      },
      "execution_count": null,
      "outputs": [
        {
          "output_type": "stream",
          "name": "stdout",
          "text": [
            "Downloading data from https://www.cs.toronto.edu/~kriz/cifar-10-python.tar.gz\n",
            "170498071/170498071 [==============================] - 6s 0us/step\n"
          ]
        }
      ]
    },
    {
      "cell_type": "markdown",
      "source": [
        "#Data Split"
      ],
      "metadata": {
        "id": "jtKm07ccEguL"
      }
    },
    {
      "cell_type": "code",
      "source": [
        "(trainx,trainy),(testx,testy)=cifar10.load_data()"
      ],
      "metadata": {
        "id": "iAgKOlxVEjyF"
      },
      "execution_count": null,
      "outputs": []
    },
    {
      "cell_type": "code",
      "source": [
        "print('train x=%s,y=%s'%(trainx.shape,trainy.shape))"
      ],
      "metadata": {
        "colab": {
          "base_uri": "https://localhost:8080/"
        },
        "id": "-zgw85XdE3s3",
        "outputId": "80ba36ac-50de-4a2e-bc9a-946cc2e918c9"
      },
      "execution_count": null,
      "outputs": [
        {
          "output_type": "stream",
          "name": "stdout",
          "text": [
            "train x=(50000, 32, 32, 3),y=(50000, 1)\n"
          ]
        }
      ]
    },
    {
      "cell_type": "code",
      "source": [
        "print('tesst x=%s,y=%s'%(testx.shape,testy.shape))"
      ],
      "metadata": {
        "colab": {
          "base_uri": "https://localhost:8080/"
        },
        "id": "gVDCPodfFM21",
        "outputId": "cf749edd-8cf2-403e-8cab-1642d2d24d57"
      },
      "execution_count": null,
      "outputs": [
        {
          "output_type": "stream",
          "name": "stdout",
          "text": [
            "tesst x=(10000, 32, 32, 3),y=(10000, 1)\n"
          ]
        }
      ]
    },
    {
      "cell_type": "markdown",
      "source": [
        "#Visualizing"
      ],
      "metadata": {
        "id": "WBIW1Tx-Fx8U"
      }
    },
    {
      "cell_type": "code",
      "source": [
        "for i in range(6):\n",
        "  plt.subplot(230+1+i)\n",
        "  plt.imshow(trainx[i])\n",
        "plt.show()"
      ],
      "metadata": {
        "colab": {
          "base_uri": "https://localhost:8080/"
        },
        "id": "5eOsYVKWF83A",
        "outputId": "ac701878-15c2-495c-ea8b-15200a3c08d4"
      },
      "execution_count": null,
      "outputs": [
        {
          "output_type": "display_data",
          "data": {
            "text/plain": [
              "<Figure size 640x480 with 6 Axes>"
            ],
            "image/png": "[encoded data removed]"
          },
          "metadata": {}
        }
      ]
    },
    {
      "cell_type": "code",
      "source": [
        "plt.imshow(trainx[2])"
      ],
      "metadata": {
        "colab": {
          "base_uri": "https://localhost:8080/"
        },
        "id": "DLgbQ69DGOYJ",
        "outputId": "95b43851-25ea-492d-bd6f-9ec6affd1d9b"
      },
      "execution_count": null,
      "outputs": [
        {
          "output_type": "execute_result",
          "data": {
            "text/plain": [
              "<matplotlib.image.AxesImage at 0x7ff1e17cd3f0>"
            ]
          },
          "metadata": {},
          "execution_count": 13
        },
        {
          "output_type": "display_data",
          "data": {
            "text/plain": [
              "<Figure size 640x480 with 1 Axes>"
            ],
            "image/png": "[encoded data removed]"
          },
          "metadata": {}
        }
      ]
    },
    {
      "cell_type": "code",
      "source": [
        "plt.imshow(trainx[55])"
      ],
      "metadata": {
        "colab": {
          "base_uri": "https://localhost:8080/"
        },
        "id": "nIrObqOuHBK2",
        "outputId": "a4dcc9ad-8001-40e0-8470-c4200ae574c0"
      },
      "execution_count": null,
      "outputs": [
        {
          "output_type": "execute_result",
          "data": {
            "text/plain": [
              "<matplotlib.image.AxesImage at 0x7ff1df56ff10>"
            ]
          },
          "metadata": {},
          "execution_count": 14
        },
        {
          "output_type": "display_data",
          "data": {
            "text/plain": [
              "<Figure size 640x480 with 1 Axes>"
            ],
            "image/png": "[encoded data removed]"
          },
          "metadata": {}
        }
      ]
    },
    {
      "cell_type": "code",
      "source": [
        "plt.imshow(testx[55])"
      ],
      "metadata": {
        "colab": {
          "base_uri": "https://localhost:8080/",
          "height": 447
        },
        "id": "_QIONod9HFxl",
        "outputId": "706d3ced-97f6-48d3-863c-5dd03e9e8b2a"
      },
      "execution_count": null,
      "outputs": [
        {
          "output_type": "execute_result",
          "data": {
            "text/plain": [
              "<matplotlib.image.AxesImage at 0x7ff1df3ee2f0>"
            ]
          },
          "metadata": {},
          "execution_count": 15
        },
        {
          "output_type": "display_data",
          "data": {
            "text/plain": [
              "<Figure size 640x480 with 1 Axes>"
            ],
            "image/png": "[encoded data removed]"
          },
          "metadata": {}
        }
      ]
    },
    {
      "cell_type": "code",
      "source": [
        "plt.imshow(trainx[45])"
      ],
      "metadata": {
        "colab": {
          "base_uri": "https://localhost:8080/",
          "height": 447
        },
        "id": "_IZmh6gPHdCW",
        "outputId": "2a52c9a5-48f6-4227-ce47-e4b7723bda4f"
      },
      "execution_count": null,
      "outputs": [
        {
          "output_type": "execute_result",
          "data": {
            "text/plain": [
              "<matplotlib.image.AxesImage at 0x7ff1df48c310>"
            ]
          },
          "metadata": {},
          "execution_count": 16
        },
        {
          "output_type": "display_data",
          "data": {
            "text/plain": [
              "<Figure size 640x480 with 1 Axes>"
            ],
            "image/png": "[encoded data removed]"
          },
          "metadata": {}
        }
      ]
    },
    {
      "cell_type": "code",
      "source": [
        "\n"
      ],
      "metadata": {
        "id": "14yOi0kuHlW8"
      },
      "execution_count": null,
      "outputs": []
    },
    {
      "cell_type": "markdown",
      "source": [
        "#MNIST"
      ],
      "metadata": {
        "id": "G7QDps8FIQ1n"
      }
    },
    {
      "cell_type": "code",
      "source": [
        "from keras.datasets import mnist\n"
      ],
      "metadata": {
        "id": "aRR76DijIUEY"
      },
      "execution_count": null,
      "outputs": []
    },
    {
      "cell_type": "code",
      "source": [
        "(train_x,train_y),(test_x,test_y)=mnist.load_data()"
      ],
      "metadata": {
        "id": "TdupProtIZFO",
        "colab": {
          "base_uri": "https://localhost:8080/"
        },
        "outputId": "31ed9d6e-43ed-4760-ca83-3a0f071ec9d3"
      },
      "execution_count": null,
      "outputs": [
        {
          "output_type": "stream",
          "name": "stdout",
          "text": [
            "Downloading data from https://storage.googleapis.com/tensorflow/tf-keras-datasets/mnist.npz\n",
            "11490434/11490434 [==============================] - 1s 0us/step\n"
          ]
        }
      ]
    },
    {
      "cell_type": "code",
      "source": [
        "print('train x=%s,y=%s'%(train_x.shape,train_y.shape))"
      ],
      "metadata": {
        "colab": {
          "base_uri": "https://localhost:8080/"
        },
        "id": "6j7SOIPMIsys",
        "outputId": "58eae0ba-c74f-413a-8543-e82dc5e7cbb8"
      },
      "execution_count": null,
      "outputs": [
        {
          "output_type": "stream",
          "name": "stdout",
          "text": [
            "train x=(60000, 28, 28),y=(60000,)\n"
          ]
        }
      ]
    },
    {
      "cell_type": "code",
      "source": [
        "print('test x=%s,y=%s'%(test_x.shape,test_y.shape))"
      ],
      "metadata": {
        "colab": {
          "base_uri": "https://localhost:8080/"
        },
        "id": "kjW1jfIvIx4k",
        "outputId": "55c89dc4-0748-4bde-a1a1-1645d5c95a7c"
      },
      "execution_count": null,
      "outputs": [
        {
          "output_type": "stream",
          "name": "stdout",
          "text": [
            "test x=(10000, 28, 28),y=(10000,)\n"
          ]
        }
      ]
    },
    {
      "cell_type": "markdown",
      "source": [
        "#visualizing minist data"
      ],
      "metadata": {
        "id": "3x0BRpwOKcn8"
      }
    },
    {
      "cell_type": "code",
      "source": [
        "plt.imshow(train_x[6],cmap='Greys')\n",
        "plt.show()"
      ],
      "metadata": {
        "colab": {
          "base_uri": "https://localhost:8080/"
        },
        "id": "-EU-x1-cKift",
        "outputId": "c7a3fcde-7986-4029-d432-b09f364f4c84"
      },
      "execution_count": null,
      "outputs": [
        {
          "output_type": "display_data",
          "data": {
            "text/plain": [
              "<Figure size 640x480 with 1 Axes>"
            ],
            "image/png": "[encoded data removed]"
          },
          "metadata": {}
        }
      ]
    },
    {
      "cell_type": "code",
      "source": [
        "print(train_x[6])"
      ],
      "metadata": {
        "colab": {
          "base_uri": "https://localhost:8080/"
        },
        "id": "_nITlyuzKtt8",
        "outputId": "aeb36b7d-1ce9-4034-eacb-eaf713006315"
      },
      "execution_count": null,
      "outputs": [
        {
          "output_type": "stream",
          "name": "stdout",
          "text": [
            "[[  0   0   0   0   0   0   0   0   0   0   0   0   0   0   0   0   0   0\n",
            "    0   0   0   0   0   0   0   0   0   0]\n",
            " [  0   0   0   0   0   0   0   0   0   0   0   0   0   0   0   0   0   0\n",
            "    0   0   0   0   0   0   0   0   0   0]\n",
            " [  0   0   0   0   0   0   0   0   0   0   0   0   0   0   0   0   0   0\n",
            "    0   0   0   0   0   0   0   0   0   0]\n",
            " [  0   0   0   0   0   0   0   0   0   0   0   0   0   0   0   0   0   0\n",
            "    0   0   0   0   0   0   0   0   0   0]\n",
            " [  0   0   0   0   0   0   0   0   0   0   0   0 145 255 211  31   0   0\n",
            "    0   0   0   0   0   0   0   0   0   0]\n",
            " [  0   0   0   0   0   0   0   0   0   0   0  32 237 253 252  71   0   0\n",
            "    0   0   0   0   0   0   0   0   0   0]\n",
            " [  0   0   0   0   0   0   0   0   0   0   0  11 175 253 252  71   0   0\n",
            "    0   0   0   0   0   0   0   0   0   0]\n",
            " [  0   0   0   0   0   0   0   0   0   0   0   0 144 253 252  71   0   0\n",
            "    0   0   0   0   0   0   0   0   0   0]\n",
            " [  0   0   0   0   0   0   0   0   0   0   0  16 191 253 252  71   0   0\n",
            "    0   0   0   0   0   0   0   0   0   0]\n",
            " [  0   0   0   0   0   0   0   0   0   0   0  26 221 253 252 124  31   0\n",
            "    0   0   0   0   0   0   0   0   0   0]\n",
            " [  0   0   0   0   0   0   0   0   0   0   0   0 125 253 252 252 108   0\n",
            "    0   0   0   0   0   0   0   0   0   0]\n",
            " [  0   0   0   0   0   0   0   0   0   0   0   0   0 253 252 252 108   0\n",
            "    0   0   0   0   0   0   0   0   0   0]\n",
            " [  0   0   0   0   0   0   0   0   0   0   0   0   0 255 253 253 108   0\n",
            "    0   0   0   0   0   0   0   0   0   0]\n",
            " [  0   0   0   0   0   0   0   0   0   0   0   0   0 253 252 252 108   0\n",
            "    0   0   0   0   0   0   0   0   0   0]\n",
            " [  0   0   0   0   0   0   0   0   0   0   0   0   0 253 252 252 108   0\n",
            "    0   0   0   0   0   0   0   0   0   0]\n",
            " [  0   0   0   0   0   0   0   0   0   0   0   0   0 253 252 252 108   0\n",
            "    0   0   0   0   0   0   0   0   0   0]\n",
            " [  0   0   0   0   0   0   0   0   0   0   0   0   0 255 253 253 170   0\n",
            "    0   0   0   0   0   0   0   0   0   0]\n",
            " [  0   0   0   0   0   0   0   0   0   0   0   0   0 253 252 252 252  42\n",
            "    0   0   0   0   0   0   0   0   0   0]\n",
            " [  0   0   0   0   0   0   0   0   0   0   0   0   0 149 252 252 252 144\n",
            "    0   0   0   0   0   0   0   0   0   0]\n",
            " [  0   0   0   0   0   0   0   0   0   0   0   0   0 109 252 252 252 144\n",
            "    0   0   0   0   0   0   0   0   0   0]\n",
            " [  0   0   0   0   0   0   0   0   0   0   0   0   0   0 218 253 253 255\n",
            "   35   0   0   0   0   0   0   0   0   0]\n",
            " [  0   0   0   0   0   0   0   0   0   0   0   0   0   0 175 252 252 253\n",
            "   35   0   0   0   0   0   0   0   0   0]\n",
            " [  0   0   0   0   0   0   0   0   0   0   0   0   0   0  73 252 252 253\n",
            "   35   0   0   0   0   0   0   0   0   0]\n",
            " [  0   0   0   0   0   0   0   0   0   0   0   0   0   0  31 211 252 253\n",
            "   35   0   0   0   0   0   0   0   0   0]\n",
            " [  0   0   0   0   0   0   0   0   0   0   0   0   0   0   0   0   0   0\n",
            "    0   0   0   0   0   0   0   0   0   0]\n",
            " [  0   0   0   0   0   0   0   0   0   0   0   0   0   0   0   0   0   0\n",
            "    0   0   0   0   0   0   0   0   0   0]\n",
            " [  0   0   0   0   0   0   0   0   0   0   0   0   0   0   0   0   0   0\n",
            "    0   0   0   0   0   0   0   0   0   0]\n",
            " [  0   0   0   0   0   0   0   0   0   0   0   0   0   0   0   0   0   0\n",
            "    0   0   0   0   0   0   0   0   0   0]]\n"
          ]
        }
      ]
    },
    {
      "cell_type": "markdown",
      "source": [
        "#Importing Fashion Dataset"
      ],
      "metadata": {
        "id": "W6BE1Nri-aUQ"
      }
    },
    {
      "cell_type": "code",
      "source": [
        "from keras.datasets import fashion_mnist"
      ],
      "metadata": {
        "id": "kbWnl6vt-kz6"
      },
      "execution_count": null,
      "outputs": []
    },
    {
      "cell_type": "markdown",
      "source": [
        "#Load & Data split"
      ],
      "metadata": {
        "id": "YzHCvH0e-r6T"
      }
    },
    {
      "cell_type": "code",
      "source": [
        "(x_train,y_train),(x_test,y_test) = fashion_mnist.load_data()"
      ],
      "metadata": {
        "colab": {
          "base_uri": "https://localhost:8080/"
        },
        "id": "H4NsInEk-zBP",
        "outputId": "e138653a-bafd-41c8-d8fe-33c59f51decd"
      },
      "execution_count": null,
      "outputs": [
        {
          "output_type": "stream",
          "name": "stdout",
          "text": [
            "Downloading data from https://storage.googleapis.com/tensorflow/tf-keras-datasets/train-labels-idx1-ubyte.gz\n",
            "29515/29515 [==============================] - 0s 0us/step\n",
            "Downloading data from https://storage.googleapis.com/tensorflow/tf-keras-datasets/train-images-idx3-ubyte.gz\n",
            "26421880/26421880 [==============================] - 1s 0us/step\n",
            "Downloading data from https://storage.googleapis.com/tensorflow/tf-keras-datasets/t10k-labels-idx1-ubyte.gz\n",
            "5148/5148 [==============================] - 0s 0us/step\n",
            "Downloading data from https://storage.googleapis.com/tensorflow/tf-keras-datasets/t10k-images-idx3-ubyte.gz\n",
            "4422102/4422102 [==============================] - 1s 0us/step\n"
          ]
        }
      ]
    },
    {
      "cell_type": "markdown",
      "source": [
        "#Visualizing fashion Data"
      ],
      "metadata": {
        "id": "p38XI4SBLXQ5"
      }
    },
    {
      "cell_type": "code",
      "source": [
        "plt.imshow(x_train[0],cmap=\"gray\")"
      ],
      "metadata": {
        "colab": {
          "base_uri": "https://localhost:8080/"
        },
        "id": "V5ukgsYFLdWY",
        "outputId": "e8eb2ef5-42f6-4461-f9f1-772e4e5a2c59"
      },
      "execution_count": null,
      "outputs": [
        {
          "output_type": "execute_result",
          "data": {
            "text/plain": [
              "<matplotlib.image.AxesImage at 0x7ff1df373f10>"
            ]
          },
          "metadata": {},
          "execution_count": 25
        },
        {
          "output_type": "display_data",
          "data": {
            "text/plain": [
              "<Figure size 640x480 with 1 Axes>"
            ],
            "image/png": "[encoded data removed]"
          },
          "metadata": {}
        }
      ]
    },
    {
      "cell_type": "code",
      "source": [
        "plt.show()"
      ],
      "metadata": {
        "id": "VyWS77ivLmsY"
      },
      "execution_count": null,
      "outputs": []
    },
    {
      "cell_type": "code",
      "source": [
        "print(y_train[0])"
      ],
      "metadata": {
        "colab": {
          "base_uri": "https://localhost:8080/"
        },
        "id": "Sq4VYgzFMATA",
        "outputId": "f5d767cc-757a-4cf6-8e6c-42fd87d52718"
      },
      "execution_count": null,
      "outputs": [
        {
          "output_type": "stream",
          "name": "stdout",
          "text": [
            "9\n"
          ]
        }
      ]
    },
    {
      "cell_type": "code",
      "source": [
        "plt.imshow(x_train[30],cmap=\"Greens\")"
      ],
      "metadata": {
        "colab": {
          "base_uri": "https://localhost:8080/"
        },
        "id": "-zJ_LsV3MFn2",
        "outputId": "d46a43e8-35ed-44e6-ec7a-296b83b27163"
      },
      "execution_count": null,
      "outputs": [
        {
          "output_type": "execute_result",
          "data": {
            "text/plain": [
              "<matplotlib.image.AxesImage at 0x7ff1f400cee0>"
            ]
          },
          "metadata": {},
          "execution_count": 28
        },
        {
          "output_type": "display_data",
          "data": {
            "text/plain": [
              "<Figure size 640x480 with 1 Axes>"
            ],
            "image/png": "[encoded data removed]"
          },
          "metadata": {}
        }
      ]
    },
    {
      "cell_type": "code",
      "source": [
        "plt.show()"
      ],
      "metadata": {
        "id": "IXF6zlIqMOz_"
      },
      "execution_count": null,
      "outputs": []
    },
    {
      "cell_type": "code",
      "source": [],
      "metadata": {
        "id": "VVJlDXGpT0G_"
      },
      "execution_count": null,
      "outputs": []
    },
    {
      "cell_type": "markdown",
      "source": [
        "#Image text vectorization"
      ],
      "metadata": {
        "id": "h_9GaTDUNPTG"
      }
    },
    {
      "cell_type": "code",
      "source": [
        "from tensorflow.keras.layers import TextVectorization"
      ],
      "metadata": {
        "id": "t7c4N8s-NSNU"
      },
      "execution_count": null,
      "outputs": []
    },
    {
      "cell_type": "markdown",
      "source": [
        "#Text Data"
      ],
      "metadata": {
        "id": "BhIWvkZ4NphW"
      }
    },
    {
      "cell_type": "code",
      "source": [
        "training_data = np.array([[\"I'am Arun\"],[\"From cuddalore tamilnadu\"],[\"I am a web developer\"]])\n",
        "training_data"
      ],
      "metadata": {
        "colab": {
          "base_uri": "https://localhost:8080/"
        },
        "id": "6PhhaUREN9Tl",
        "outputId": "88d0da70-a5e4-412b-acc5-489f0fa9899d"
      },
      "execution_count": null,
      "outputs": [
        {
          "output_type": "execute_result",
          "data": {
            "text/plain": [
              "array([[\"I'am Arun\"],\n",
              "       ['From cuddalore tamilnadu'],\n",
              "       ['I am a web developer']], dtype='<U24')"
            ]
          },
          "metadata": {},
          "execution_count": 31
        }
      ]
    },
    {
      "cell_type": "markdown",
      "source": [
        "#Applying Text vectorization"
      ],
      "metadata": {
        "id": "6AfxGwHVO-M9"
      }
    },
    {
      "cell_type": "code",
      "source": [
        "vectorization = TextVectorization(output_mode=\"int\")"
      ],
      "metadata": {
        "id": "owrI1wW2PDd8"
      },
      "execution_count": null,
      "outputs": []
    },
    {
      "cell_type": "code",
      "source": [
        "vectorization.adapt(training_data)"
      ],
      "metadata": {
        "id": "sqmWW1IAPQ0L"
      },
      "execution_count": null,
      "outputs": []
    },
    {
      "cell_type": "code",
      "source": [
        "integer_data = vectorization(training_data)"
      ],
      "metadata": {
        "id": "smolDw1MPapK"
      },
      "execution_count": null,
      "outputs": []
    },
    {
      "cell_type": "code",
      "source": [
        "print(integer_data)"
      ],
      "metadata": {
        "colab": {
          "base_uri": "https://localhost:8080/"
        },
        "id": "CWiD6HzDP_0L",
        "outputId": "f24fe5c6-4498-41da-c7d6-063c775b4777"
      },
      "execution_count": null,
      "outputs": [
        {
          "output_type": "stream",
          "name": "stdout",
          "text": [
            "tf.Tensor(\n",
            "[[ 4  9  0  0  0]\n",
            " [ 6  8  3  0  0]\n",
            " [ 5 10 11  2  7]], shape=(3, 5), dtype=int64)\n"
          ]
        }
      ]
    },
    {
      "cell_type": "code",
      "source": [
        "vectorization.get_vocabulary()"
      ],
      "metadata": {
        "colab": {
          "base_uri": "https://localhost:8080/"
        },
        "id": "o8HBNvdwPzVY",
        "outputId": "2c3cb1bb-2f10-4c2f-fd79-f96daf7269f2"
      },
      "execution_count": null,
      "outputs": [
        {
          "output_type": "execute_result",
          "data": {
            "text/plain": [
              "['',\n",
              " '[UNK]',\n",
              " 'web',\n",
              " 'tamilnadu',\n",
              " 'iam',\n",
              " 'i',\n",
              " 'from',\n",
              " 'developer',\n",
              " 'cuddalore',\n",
              " 'arun',\n",
              " 'am',\n",
              " 'a']"
            ]
          },
          "metadata": {},
          "execution_count": 36
        }
      ]
    },
    {
      "cell_type": "markdown",
      "source": [
        "#Normalization"
      ],
      "metadata": {
        "id": "hq9KqueXQQ6r"
      }
    },
    {
      "cell_type": "code",
      "source": [
        "import numpy as np"
      ],
      "metadata": {
        "id": "R0wH67YCQT67"
      },
      "execution_count": null,
      "outputs": []
    },
    {
      "cell_type": "code",
      "source": [
        "from tensorflow.keras.layers import Normalization"
      ],
      "metadata": {
        "id": "CSvGSqJWQY_R"
      },
      "execution_count": null,
      "outputs": []
    },
    {
      "cell_type": "code",
      "source": [
        "data = np.random.randint(0,256,size=(64,200,200,3)).astype(\"float32\")"
      ],
      "metadata": {
        "id": "hdGPrf5aQmn2"
      },
      "execution_count": null,
      "outputs": []
    },
    {
      "cell_type": "code",
      "source": [
        "data"
      ],
      "metadata": {
        "colab": {
          "base_uri": "https://localhost:8080/"
        },
        "id": "Ow77B6JsQyGG",
        "outputId": "71a645bd-9bf6-479d-e62a-217ac8cefdb8"
      },
      "execution_count": null,
      "outputs": [
        {
          "output_type": "execute_result",
          "data": {
            "text/plain": [
              "array([[[[121.,  38., 250.],\n",
              "         [158., 171.,  51.],\n",
              "         [ 58.,  11.,  66.],\n",
              "         ...,\n",
              "         [103., 216., 109.],\n",
              "         [172., 220.,   4.],\n",
              "         [221., 174., 180.]],\n",
              "\n",
              "        [[ 61., 129., 172.],\n",
              "         [160., 239.,  50.],\n",
              "         [150., 128.,  29.],\n",
              "         ...,\n",
              "         [220., 132., 200.],\n",
              "         [  3., 186.,  69.],\n",
              "         [156., 118., 250.]],\n",
              "\n",
              "        [[210., 233., 176.],\n",
              "         [157., 155., 170.],\n",
              "         [103.,  54., 148.],\n",
              "         ...,\n",
              "         [ 22.,  84.,  85.],\n",
              "         [  2.,   6., 184.],\n",
              "         [236.,  71., 103.]],\n",
              "\n",
              "        ...,\n",
              "\n",
              "        [[ 63., 233., 170.],\n",
              "         [253., 237.,  51.],\n",
              "         [254., 219., 220.],\n",
              "         ...,\n",
              "         [118., 210., 183.],\n",
              "         [219., 214., 165.],\n",
              "         [124.,  44., 245.]],\n",
              "\n",
              "        [[131., 248., 228.],\n",
              "         [ 32., 235., 167.],\n",
              "         [ 18., 134.,  75.],\n",
              "         ...,\n",
              "         [206., 187.,   6.],\n",
              "         [211.,  72., 111.],\n",
              "         [244.,   7.,  35.]],\n",
              "\n",
              "        [[ 65., 173., 200.],\n",
              "         [ 97.,  78., 143.],\n",
              "         [ 35., 137., 192.],\n",
              "         ...,\n",
              "         [142.,  42.,  37.],\n",
              "         [207., 178.,  63.],\n",
              "         [ 26., 244., 106.]]],\n",
              "\n",
              "\n",
              "       [[[ 72.,  83., 124.],\n",
              "         [190.,  98., 231.],\n",
              "         [ 51.,  25., 227.],\n",
              "         ...,\n",
              "         [186., 253., 102.],\n",
              "         [ 14.,  59.,  42.],\n",
              "         [ 93., 220., 153.]],\n",
              "\n",
              "        [[ 80., 196., 247.],\n",
              "         [ 99.,  76., 189.],\n",
              "         [231.,  25.,  96.],\n",
              "         ...,\n",
              "         [119., 194., 176.],\n",
              "         [ 94., 150., 234.],\n",
              "         [206.,   0.,  36.]],\n",
              "\n",
              "        [[ 27.,  14., 135.],\n",
              "         [221., 177., 199.],\n",
              "         [ 73.,  11.,  92.],\n",
              "         ...,\n",
              "         [ 37.,  99.,  75.],\n",
              "         [128.,   4., 244.],\n",
              "         [163., 222.,  10.]],\n",
              "\n",
              "        ...,\n",
              "\n",
              "        [[177.,  31., 104.],\n",
              "         [213.,  89., 218.],\n",
              "         [ 56.,  84., 201.],\n",
              "         ...,\n",
              "         [170., 166.,  53.],\n",
              "         [206., 173.,  61.],\n",
              "         [235., 200., 125.]],\n",
              "\n",
              "        [[ 62.,  73.,  60.],\n",
              "         [162.,  79.,  44.],\n",
              "         [ 11., 193., 187.],\n",
              "         ...,\n",
              "         [172.,  70., 169.],\n",
              "         [ 70.,  69., 158.],\n",
              "         [212., 155., 240.]],\n",
              "\n",
              "        [[150.,   8., 211.],\n",
              "         [ 46.,   9.,  52.],\n",
              "         [130., 252., 102.],\n",
              "         ...,\n",
              "         [  6.,  13., 225.],\n",
              "         [224., 188.,  40.],\n",
              "         [ 50., 104., 157.]]],\n",
              "\n",
              "\n",
              "       [[[213., 215., 136.],\n",
              "         [178.,  95.,  38.],\n",
              "         [186.,  90.,  81.],\n",
              "         ...,\n",
              "         [  8., 250., 174.],\n",
              "         [ 27., 111., 219.],\n",
              "         [  3.,  73., 138.]],\n",
              "\n",
              "        [[ 58., 185.,   6.],\n",
              "         [116.,   6., 131.],\n",
              "         [163., 183.,  64.],\n",
              "         ...,\n",
              "         [113., 149., 246.],\n",
              "         [134., 197.,  64.],\n",
              "         [237., 212., 157.]],\n",
              "\n",
              "        [[ 18.,  91.,  83.],\n",
              "         [ 13., 194., 219.],\n",
              "         [ 86., 230.,   4.],\n",
              "         ...,\n",
              "         [107., 191., 238.],\n",
              "         [236., 159.,  76.],\n",
              "         [125., 100., 143.]],\n",
              "\n",
              "        ...,\n",
              "\n",
              "        [[252.,  14., 137.],\n",
              "         [159., 140., 198.],\n",
              "         [131.,  69.,  94.],\n",
              "         ...,\n",
              "         [225., 131., 131.],\n",
              "         [ 58., 135., 172.],\n",
              "         [176., 132.,  42.]],\n",
              "\n",
              "        [[ 93., 145.,  27.],\n",
              "         [ 21., 144.,   2.],\n",
              "         [174., 204.,   7.],\n",
              "         ...,\n",
              "         [ 88.,  53., 180.],\n",
              "         [ 84., 221., 196.],\n",
              "         [ 59.,  32., 179.]],\n",
              "\n",
              "        [[137., 220.,  22.],\n",
              "         [ 15.,  87.,  19.],\n",
              "         [236., 238., 101.],\n",
              "         ...,\n",
              "         [137., 219.,  31.],\n",
              "         [227.,  77., 242.],\n",
              "         [161., 119.,  72.]]],\n",
              "\n",
              "\n",
              "       ...,\n",
              "\n",
              "\n",
              "       [[[ 62., 140., 191.],\n",
              "         [207.,  86.,   3.],\n",
              "         [ 24.,  45., 213.],\n",
              "         ...,\n",
              "         [129.,  20., 105.],\n",
              "         [ 34., 121., 247.],\n",
              "         [180., 231.,  17.]],\n",
              "\n",
              "        [[ 19.,  42., 230.],\n",
              "         [220.,  19., 146.],\n",
              "         [ 93., 215.,  32.],\n",
              "         ...,\n",
              "         [ 47.,  79., 237.],\n",
              "         [137., 177.,  22.],\n",
              "         [223.,   2., 207.]],\n",
              "\n",
              "        [[ 76.,  72., 119.],\n",
              "         [ 56., 117.,  59.],\n",
              "         [ 12.,  36.,  45.],\n",
              "         ...,\n",
              "         [114.,  13.,  59.],\n",
              "         [213., 222.,  88.],\n",
              "         [ 31., 125., 108.]],\n",
              "\n",
              "        ...,\n",
              "\n",
              "        [[102., 163., 226.],\n",
              "         [254.,  64., 127.],\n",
              "         [ 80., 147.,  91.],\n",
              "         ...,\n",
              "         [157., 232.,  41.],\n",
              "         [169.,   9., 129.],\n",
              "         [177.,   7., 230.]],\n",
              "\n",
              "        [[166.,  83.,   3.],\n",
              "         [178., 156., 206.],\n",
              "         [ 28.,  35.,  29.],\n",
              "         ...,\n",
              "         [158.,  19.,  22.],\n",
              "         [195., 187.,  85.],\n",
              "         [155., 106., 110.]],\n",
              "\n",
              "        [[204., 246.,  99.],\n",
              "         [133., 168., 185.],\n",
              "         [180.,  57.,  55.],\n",
              "         ...,\n",
              "         [204., 220., 160.],\n",
              "         [199., 237., 151.],\n",
              "         [253.,  18., 224.]]],\n",
              "\n",
              "\n",
              "       [[[196., 111., 240.],\n",
              "         [ 59.,  16., 157.],\n",
              "         [ 13.,  90., 144.],\n",
              "         ...,\n",
              "         [ 40., 166., 230.],\n",
              "         [216., 193., 164.],\n",
              "         [132., 100., 223.]],\n",
              "\n",
              "        [[ 19., 111., 116.],\n",
              "         [117.,   3.,  91.],\n",
              "         [  0., 236., 114.],\n",
              "         ...,\n",
              "         [ 28., 214.,  52.],\n",
              "         [217., 110.,  69.],\n",
              "         [ 61., 154., 169.]],\n",
              "\n",
              "        [[156.,  33.,   4.],\n",
              "         [ 29., 242., 110.],\n",
              "         [177., 161., 125.],\n",
              "         ...,\n",
              "         [137., 254., 239.],\n",
              "         [182., 133.,  52.],\n",
              "         [192.,  36., 189.]],\n",
              "\n",
              "        ...,\n",
              "\n",
              "        [[191., 182., 107.],\n",
              "         [179., 201., 179.],\n",
              "         [ 92.,   3., 203.],\n",
              "         ...,\n",
              "         [157.,   3., 244.],\n",
              "         [ 92., 176.,  53.],\n",
              "         [124., 182.,  39.]],\n",
              "\n",
              "        [[ 17., 204.,  24.],\n",
              "         [129.,  76., 107.],\n",
              "         [ 72., 238., 120.],\n",
              "         ...,\n",
              "         [ 58., 118., 249.],\n",
              "         [133., 174., 152.],\n",
              "         [ 26.,  68.,  61.]],\n",
              "\n",
              "        [[239., 127., 105.],\n",
              "         [224., 125., 104.],\n",
              "         [ 68.,  99., 178.],\n",
              "         ...,\n",
              "         [150., 162.,  19.],\n",
              "         [ 96., 241.,  99.],\n",
              "         [191., 219., 108.]]],\n",
              "\n",
              "\n",
              "       [[[217.,  39., 168.],\n",
              "         [ 37., 185., 153.],\n",
              "         [137.,   3., 145.],\n",
              "         ...,\n",
              "         [153., 115.,  49.],\n",
              "         [169., 119., 106.],\n",
              "         [ 81.,  42.,  60.]],\n",
              "\n",
              "        [[ 72., 154., 126.],\n",
              "         [107., 141.,  72.],\n",
              "         [149., 178., 246.],\n",
              "         ...,\n",
              "         [237., 124., 184.],\n",
              "         [ 61., 122., 184.],\n",
              "         [ 83., 147., 121.]],\n",
              "\n",
              "        [[183., 107.,   3.],\n",
              "         [132.,  62., 174.],\n",
              "         [  4.,  41., 103.],\n",
              "         ...,\n",
              "         [199., 227., 179.],\n",
              "         [171., 190., 219.],\n",
              "         [ 68., 245.,  79.]],\n",
              "\n",
              "        ...,\n",
              "\n",
              "        [[ 60., 121., 175.],\n",
              "         [ 88.,  89., 154.],\n",
              "         [ 26.,  88., 146.],\n",
              "         ...,\n",
              "         [250., 207.,  18.],\n",
              "         [ 50., 191., 117.],\n",
              "         [ 46.,  20.,  64.]],\n",
              "\n",
              "        [[ 79., 209., 255.],\n",
              "         [165., 176., 228.],\n",
              "         [ 28., 100., 136.],\n",
              "         ...,\n",
              "         [ 14.,  36., 194.],\n",
              "         [207., 158.,  86.],\n",
              "         [166., 135., 221.]],\n",
              "\n",
              "        [[ 85.,  61., 188.],\n",
              "         [ 38., 236., 117.],\n",
              "         [149., 209., 103.],\n",
              "         ...,\n",
              "         [ 93., 192.,  22.],\n",
              "         [ 23., 198.,  20.],\n",
              "         [235., 252., 200.]]]], dtype=float32)"
            ]
          },
          "metadata": {},
          "execution_count": 40
        }
      ]
    },
    {
      "cell_type": "code",
      "source": [
        "data.shape"
      ],
      "metadata": {
        "colab": {
          "base_uri": "https://localhost:8080/"
        },
        "id": "8XOqPjM6T1xZ",
        "outputId": "ce470073-9a4d-4fda-9305-3e22ee6c808e"
      },
      "execution_count": null,
      "outputs": [
        {
          "output_type": "execute_result",
          "data": {
            "text/plain": [
              "(64, 200, 200, 3)"
            ]
          },
          "metadata": {},
          "execution_count": 41
        }
      ]
    },
    {
      "cell_type": "code",
      "source": [
        "normalizer = Normalization(axis = None)"
      ],
      "metadata": {
        "id": "uoiRFQm5T5O1"
      },
      "execution_count": null,
      "outputs": []
    },
    {
      "cell_type": "code",
      "source": [
        "normalizer"
      ],
      "metadata": {
        "colab": {
          "base_uri": "https://localhost:8080/"
        },
        "id": "HtVAsOyBUCjN",
        "outputId": "651fe768-b2ba-4b26-f465-a054037069d2"
      },
      "execution_count": null,
      "outputs": [
        {
          "output_type": "execute_result",
          "data": {
            "text/plain": [
              "<keras.src.layers.preprocessing.normalization.Normalization at 0x7ff1d2fdb6a0>"
            ]
          },
          "metadata": {},
          "execution_count": 43
        }
      ]
    },
    {
      "cell_type": "code",
      "source": [
        "normalizer.adapt(data)"
      ],
      "metadata": {
        "id": "SR3KKBmHUPOF"
      },
      "execution_count": null,
      "outputs": []
    },
    {
      "cell_type": "code",
      "source": [
        "Normalized=normalizer(data)"
      ],
      "metadata": {
        "id": "zSZEV5XPUVC1"
      },
      "execution_count": null,
      "outputs": []
    },
    {
      "cell_type": "code",
      "source": [
        "Normalized"
      ],
      "metadata": {
        "colab": {
          "base_uri": "https://localhost:8080/"
        },
        "id": "QBR9sJ2pUe3V",
        "outputId": "499505e0-47f6-4b2c-ac5a-0d24b20486cd"
      },
      "execution_count": null,
      "outputs": [
        {
          "output_type": "execute_result",
          "data": {
            "text/plain": [
              "<tf.Tensor: shape=(64, 200, 200, 3), dtype=float32, numpy=\n",
              "array([[[[-0.08828693, -1.211845  ,  1.657966  ],\n",
              "         [ 0.41257632,  0.5885553 , -1.035866  ],\n",
              "         [-0.9411081 , -1.5773399 , -0.8328134 ],\n",
              "         ...,\n",
              "         [-0.33195013,  1.1977133 , -0.25072905],\n",
              "         [ 0.60209215,  1.2518607 , -1.6720978 ],\n",
              "         [ 1.2653975 ,  0.6291658 ,  0.7103869 ]],\n",
              "\n",
              "        [[-0.9004976 ,  0.02000783,  0.60209215],\n",
              "         [ 0.43965   ,  1.5090607 , -1.049403  ],\n",
              "         [ 0.30428156,  0.00647098, -1.3336766 ],\n",
              "         ...,\n",
              "         [ 1.2518607 ,  0.06061836,  0.9811238 ],\n",
              "         [-1.6856346 ,  0.791608  , -0.79220283],\n",
              "         [ 0.38550264, -0.12889746,  1.657966  ]],\n",
              "\n",
              "        [[ 1.1164923 ,  1.4278396 ,  0.6562395 ],\n",
              "         [ 0.39903948,  0.3719658 ,  0.57501847],\n",
              "         [-0.33195013, -0.99525553,  0.27720788],\n",
              "         ...,\n",
              "         [-1.4284345 , -0.5891502 , -0.5756133 ],\n",
              "         [-1.6991714 , -1.6450241 ,  0.7645343 ],\n",
              "         [ 1.4684502 , -0.76512915, -0.33195013]],\n",
              "\n",
              "        ...,\n",
              "\n",
              "        [[-0.87342393,  1.4278396 ,  0.57501847],\n",
              "         [ 1.6985766 ,  1.481987  , -1.035866  ],\n",
              "         [ 1.7121134 ,  1.2383238 ,  1.2518607 ],\n",
              "         ...,\n",
              "         [-0.12889746,  1.1164923 ,  0.7509974 ],\n",
              "         [ 1.2383238 ,  1.1706396 ,  0.50733423],\n",
              "         [-0.0476764 , -1.1306239 ,  1.5902818 ]],\n",
              "\n",
              "        [[ 0.04708152,  1.6308923 ,  1.3601555 ],\n",
              "         [-1.2930661 ,  1.4549134 ,  0.5344079 ],\n",
              "         [-1.482582  ,  0.08769205, -0.7109818 ],\n",
              "         ...,\n",
              "         [ 1.0623449 ,  0.8051448 , -1.6450241 ],\n",
              "         [ 1.1300291 , -0.75159234, -0.22365537],\n",
              "         [ 1.5767449 , -1.6314873 , -1.2524556 ]],\n",
              "\n",
              "        [[-0.84635025,  0.61562896,  0.9811238 ],\n",
              "         [-0.4131712 , -0.67037123,  0.20952365],\n",
              "         [-1.2524556 ,  0.12830259,  0.872829  ],\n",
              "         ...,\n",
              "         [ 0.1959868 , -1.1576977 , -1.2253819 ],\n",
              "         [ 1.0758817 ,  0.6833132 , -0.87342393],\n",
              "         [-1.3742871 ,  1.5767449 , -0.2913396 ]]],\n",
              "\n",
              "\n",
              "       [[[-0.75159234, -0.602687  , -0.0476764 ],\n",
              "         [ 0.84575534, -0.39963436,  1.400766  ],\n",
              "         [-1.035866  , -1.387824  ,  1.3466187 ],\n",
              "         ...,\n",
              "         [ 0.791608  ,  1.6985766 , -0.34548697],\n",
              "         [-1.5367293 , -0.9275713 , -1.1576977 ],\n",
              "         [-0.46731856,  1.2518607 ,  0.34489208]],\n",
              "\n",
              "        [[-0.64329755,  0.9269764 ,  1.6173555 ],\n",
              "         [-0.38609752, -0.6974449 ,  0.8322185 ],\n",
              "         [ 1.400766  , -1.387824  , -0.42670804],\n",
              "         ...,\n",
              "         [-0.11536062,  0.8999027 ,  0.6562395 ],\n",
              "         [-0.45378172,  0.30428156,  1.4413764 ],\n",
              "         [ 1.0623449 , -1.7262452 , -1.2389187 ]],\n",
              "\n",
              "        [[-1.3607503 , -1.5367293 ,  0.10122889],\n",
              "         [ 1.2653975 ,  0.6697764 ,  0.96758693],\n",
              "         [-0.73805547, -1.5773399 , -0.48085544],\n",
              "         ...,\n",
              "         [-1.2253819 , -0.38609752, -0.7109818 ],\n",
              "         [ 0.00647098, -1.6720978 ,  1.5767449 ],\n",
              "         [ 0.48026055,  1.2789344 , -1.5908767 ]],\n",
              "\n",
              "        ...,\n",
              "\n",
              "        [[ 0.6697764 , -1.306603  , -0.3184133 ],\n",
              "         [ 1.1571028 , -0.52146596,  1.224787  ],\n",
              "         [-0.96818185, -0.5891502 ,  0.9946606 ],\n",
              "         ...,\n",
              "         [ 0.57501847,  0.5208711 , -1.0087924 ],\n",
              "         [ 1.0623449 ,  0.61562896, -0.9004976 ],\n",
              "         [ 1.4549134 ,  0.9811238 , -0.03413955]],\n",
              "\n",
              "        [[-0.88696074, -0.73805547, -0.9140344 ],\n",
              "         [ 0.4667237 , -0.6568344 , -1.1306239 ],\n",
              "         [-1.5773399 ,  0.8863659 ,  0.8051448 ],\n",
              "         ...,\n",
              "         [ 0.60209215, -0.778666  ,  0.5614816 ],\n",
              "         [-0.778666  , -0.79220283,  0.41257632],\n",
              "         [ 1.1435659 ,  0.3719658 ,  1.5225976 ]],\n",
              "\n",
              "        [[ 0.30428156, -1.6179503 ,  1.1300291 ],\n",
              "         [-1.1035503 , -1.6044135 , -1.0223292 ],\n",
              "         [ 0.03354467,  1.6850398 , -0.34548697],\n",
              "         ...,\n",
              "         [-1.6450241 , -1.5502661 ,  1.3195449 ],\n",
              "         [ 1.3060081 ,  0.81868166, -1.1847713 ],\n",
              "         [-1.049403  , -0.3184133 ,  0.39903948]]],\n",
              "\n",
              "\n",
              "       [[[ 1.1571028 ,  1.1841764 ,  0.11476574],\n",
              "         [ 0.6833132 , -0.44024488, -1.211845  ],\n",
              "         [ 0.791608  , -0.5079291 , -0.6297607 ],\n",
              "         ...,\n",
              "         [-1.6179503 ,  1.657966  ,  0.6291658 ],\n",
              "         [-1.3607503 , -0.22365537,  1.2383238 ],\n",
              "         [-1.6856346 , -0.73805547,  0.14183943]],\n",
              "\n",
              "        [[-0.9411081 ,  0.7780711 , -1.6450241 ],\n",
              "         [-0.15597115, -1.6450241 ,  0.04708152],\n",
              "         [ 0.48026055,  0.7509974 , -0.85988706],\n",
              "         ...,\n",
              "         [-0.19658169,  0.29074472,  1.6038187 ],\n",
              "         [ 0.08769205,  0.94051325, -0.85988706],\n",
              "         [ 1.481987  ,  1.1435659 ,  0.39903948]],\n",
              "\n",
              "        [[-1.482582  , -0.49439228, -0.602687  ],\n",
              "         [-1.5502661 ,  0.8999027 ,  1.2383238 ],\n",
              "         [-0.5620765 ,  1.3872291 , -1.6720978 ],\n",
              "         ...,\n",
              "         [-0.27780277,  0.8592922 ,  1.4955239 ],\n",
              "         [ 1.4684502 ,  0.42611316, -0.6974449 ],\n",
              "         [-0.03413955, -0.37256068,  0.20952365]],\n",
              "\n",
              "        ...,\n",
              "\n",
              "        [[ 1.6850398 , -1.5367293 ,  0.12830259],\n",
              "         [ 0.42611316,  0.16891311,  0.9540501 ],\n",
              "         [ 0.04708152, -0.79220283, -0.45378172],\n",
              "         ...,\n",
              "         [ 1.3195449 ,  0.04708152,  0.04708152],\n",
              "         [-0.9411081 ,  0.10122889,  0.60209215],\n",
              "         [ 0.6562395 ,  0.06061836, -1.1576977 ]],\n",
              "\n",
              "        [[-0.46731856,  0.23659734, -1.3607503 ],\n",
              "         [-1.4419714 ,  0.22306049, -1.6991714 ],\n",
              "         [ 0.6291658 ,  1.0352712 , -1.6314873 ],\n",
              "         ...,\n",
              "         [-0.5350028 , -1.0087924 ,  0.7103869 ],\n",
              "         [-0.5891502 ,  1.2653975 ,  0.9269764 ],\n",
              "         [-0.9275713 , -1.2930661 ,  0.69685006]],\n",
              "\n",
              "        [[ 0.12830259,  1.2518607 , -1.4284345 ],\n",
              "         [-1.5231924 , -0.54853964, -1.469045  ],\n",
              "         [ 1.4684502 ,  1.4955239 , -0.3590238 ],\n",
              "         ...,\n",
              "         [ 0.12830259,  1.2383238 , -1.306603  ],\n",
              "         [ 1.3466187 , -0.6839081 ,  1.5496713 ],\n",
              "         [ 0.45318684, -0.11536062, -0.75159234]]],\n",
              "\n",
              "\n",
              "       ...,\n",
              "\n",
              "\n",
              "       [[[-0.88696074,  0.16891311,  0.8592922 ],\n",
              "         [ 1.0758817 , -0.5620765 , -1.6856346 ],\n",
              "         [-1.4013609 , -1.1170871 ,  1.1571028 ],\n",
              "         ...,\n",
              "         [ 0.02000783, -1.4555082 , -0.30487645],\n",
              "         [-1.2659924 , -0.08828693,  1.6173555 ],\n",
              "         [ 0.7103869 ,  1.400766  , -1.4961188 ]],\n",
              "\n",
              "        [[-1.469045  , -1.1576977 ,  1.3872291 ],\n",
              "         [ 1.2518607 , -1.469045  ,  0.25013417],\n",
              "         [-0.46731856,  1.1841764 , -1.2930661 ],\n",
              "         ...,\n",
              "         [-1.0900134 , -0.6568344 ,  1.481987  ],\n",
              "         [ 0.12830259,  0.6697764 , -1.4284345 ],\n",
              "         [ 1.2924712 , -1.6991714 ,  1.0758817 ]],\n",
              "\n",
              "        [[-0.6974449 , -0.75159234, -0.11536062],\n",
              "         [-0.96818185, -0.14243431, -0.9275713 ],\n",
              "         [-1.563803  , -1.2389187 , -1.1170871 ],\n",
              "         ...,\n",
              "         [-0.18304484, -1.5502661 , -0.9275713 ],\n",
              "         [ 1.1571028 ,  1.2789344 , -0.5350028 ],\n",
              "         [-1.306603  , -0.03413955, -0.2642659 ]],\n",
              "\n",
              "        ...,\n",
              "\n",
              "        [[-0.34548697,  0.48026055,  1.3330817 ],\n",
              "         [ 1.7121134 , -0.85988706, -0.00706586],\n",
              "         [-0.64329755,  0.26367104, -0.49439228],\n",
              "         ...,\n",
              "         [ 0.39903948,  1.4143028 , -1.1712345 ],\n",
              "         [ 0.5614816 , -1.6044135 ,  0.02000783],\n",
              "         [ 0.6697764 , -1.6314873 ,  1.3872291 ]],\n",
              "\n",
              "        [[ 0.5208711 , -0.602687  , -1.6856346 ],\n",
              "         [ 0.6833132 ,  0.38550264,  1.0623449 ],\n",
              "         [-1.3472135 , -1.2524556 , -1.3336766 ],\n",
              "         ...,\n",
              "         [ 0.41257632, -1.469045  , -1.4284345 ],\n",
              "         [ 0.9134396 ,  0.8051448 , -0.5756133 ],\n",
              "         [ 0.3719658 , -0.2913396 , -0.23719221]],\n",
              "\n",
              "        [[ 1.0352712 ,  1.6038187 , -0.38609752],\n",
              "         [ 0.0741552 ,  0.5479448 ,  0.7780711 ],\n",
              "         [ 0.7103869 , -0.954645  , -0.98171866],\n",
              "         ...,\n",
              "         [ 1.0352712 ,  1.2518607 ,  0.43965   ],\n",
              "         [ 0.96758693,  1.481987  ,  0.3178184 ],\n",
              "         [ 1.6985766 , -1.482582  ,  1.3060081 ]]],\n",
              "\n",
              "\n",
              "       [[[ 0.9269764 , -0.22365537,  1.5225976 ],\n",
              "         [-0.9275713 , -1.5096556 ,  0.39903948],\n",
              "         [-1.5502661 , -0.5079291 ,  0.22306049],\n",
              "         ...,\n",
              "         [-1.1847713 ,  0.5208711 ,  1.3872291 ],\n",
              "         [ 1.1977133 ,  0.8863659 ,  0.4937974 ],\n",
              "         [ 0.06061836, -0.37256068,  1.2924712 ]],\n",
              "\n",
              "        [[-1.469045  , -0.22365537, -0.15597115],\n",
              "         [-0.14243431, -1.6856346 , -0.49439228],\n",
              "         [-1.7262452 ,  1.4684502 , -0.18304484],\n",
              "         ...,\n",
              "         [-1.3472135 ,  1.1706396 , -1.0223292 ],\n",
              "         [ 1.2112502 , -0.23719221, -0.79220283],\n",
              "         [-0.9004976 ,  0.35842896,  0.5614816 ]],\n",
              "\n",
              "        [[ 0.38550264, -1.2795292 , -1.6720978 ],\n",
              "         [-1.3336766 ,  1.5496713 , -0.23719221],\n",
              "         [ 0.6697764 ,  0.45318684, -0.03413955],\n",
              "         ...,\n",
              "         [ 0.12830259,  1.7121134 ,  1.5090607 ],\n",
              "         [ 0.7374606 ,  0.0741552 , -1.0223292 ],\n",
              "         [ 0.872829  , -1.2389187 ,  0.8322185 ]],\n",
              "\n",
              "        ...,\n",
              "\n",
              "        [[ 0.8592922 ,  0.7374606 , -0.27780277],\n",
              "         [ 0.69685006,  0.9946606 ,  0.69685006],\n",
              "         [-0.48085544, -1.6856346 ,  1.0217344 ],\n",
              "         ...,\n",
              "         [ 0.39903948, -1.6856346 ,  1.5767449 ],\n",
              "         [-0.48085544,  0.6562395 , -1.0087924 ],\n",
              "         [-0.0476764 ,  0.7374606 , -1.1983082 ]],\n",
              "\n",
              "        [[-1.4961188 ,  1.0352712 , -1.4013609 ],\n",
              "         [ 0.02000783, -0.6974449 , -0.27780277],\n",
              "         [-0.75159234,  1.4955239 , -0.10182378],\n",
              "         ...,\n",
              "         [-0.9411081 , -0.12889746,  1.6444292 ],\n",
              "         [ 0.0741552 ,  0.6291658 ,  0.33135524],\n",
              "         [-1.3742871 , -0.8057397 , -0.9004976 ]],\n",
              "\n",
              "        [[ 1.5090607 , -0.00706586, -0.30487645],\n",
              "         [ 1.3060081 , -0.03413955, -0.3184133 ],\n",
              "         [-0.8057397 , -0.38609752,  0.6833132 ],\n",
              "         ...,\n",
              "         [ 0.30428156,  0.4667237 , -1.469045  ],\n",
              "         [-0.42670804,  1.5361344 , -0.38609752],\n",
              "         [ 0.8592922 ,  1.2383238 , -0.2642659 ]]],\n",
              "\n",
              "\n",
              "       [[[ 1.2112502 , -1.1983082 ,  0.5479448 ],\n",
              "         [-1.2253819 ,  0.7780711 ,  0.34489208],\n",
              "         [ 0.12830259, -1.6856346 ,  0.23659734],\n",
              "         ...,\n",
              "         [ 0.34489208, -0.169508  , -1.0629398 ],\n",
              "         [ 0.5614816 , -0.11536062, -0.2913396 ],\n",
              "         [-0.6297607 , -1.1576977 , -0.9140344 ]],\n",
              "\n",
              "        [[-0.75159234,  0.35842896, -0.02060271],\n",
              "         [-0.27780277,  0.18244997, -0.75159234],\n",
              "         [ 0.29074472,  0.6833132 ,  1.6038187 ],\n",
              "         ...,\n",
              "         [ 1.481987  , -0.0476764 ,  0.7645343 ],\n",
              "         [-0.9004976 , -0.07475009,  0.7645343 ],\n",
              "         [-0.602687  ,  0.26367104, -0.08828693]],\n",
              "\n",
              "        [[ 0.7509974 , -0.27780277, -1.6856346 ],\n",
              "         [ 0.06061836, -0.88696074,  0.6291658 ],\n",
              "         [-1.6720978 , -1.1712345 , -0.33195013],\n",
              "         ...,\n",
              "         [ 0.96758693,  1.3466187 ,  0.69685006],\n",
              "         [ 0.5885553 ,  0.84575534,  1.2383238 ],\n",
              "         [-0.8057397 ,  1.5902818 , -0.6568344 ]],\n",
              "\n",
              "        ...,\n",
              "\n",
              "        [[-0.9140344 , -0.08828693,  0.6427027 ],\n",
              "         [-0.5350028 , -0.52146596,  0.35842896],\n",
              "         [-1.3742871 , -0.5350028 ,  0.25013417],\n",
              "         ...,\n",
              "         [ 1.657966  ,  1.0758817 , -1.482582  ],\n",
              "         [-1.049403  ,  0.8592922 , -0.14243431],\n",
              "         [-1.1035503 , -1.4555082 , -0.85988706]],\n",
              "\n",
              "        [[-0.6568344 ,  1.1029553 ,  1.7256502 ],\n",
              "         [ 0.50733423,  0.6562395 ,  1.3601555 ],\n",
              "         [-1.3472135 , -0.37256068,  0.11476574],\n",
              "         ...,\n",
              "         [-1.5367293 , -1.2389187 ,  0.8999027 ],\n",
              "         [ 1.0758817 ,  0.41257632, -0.5620765 ],\n",
              "         [ 0.5208711 ,  0.10122889,  1.2653975 ]],\n",
              "\n",
              "        [[-0.5756133 , -0.9004976 ,  0.81868166],\n",
              "         [-1.211845  ,  1.4684502 , -0.14243431],\n",
              "         [ 0.29074472,  1.1029553 , -0.33195013],\n",
              "         ...,\n",
              "         [-0.46731856,  0.872829  , -1.4284345 ],\n",
              "         [-1.4148977 ,  0.9540501 , -1.4555082 ],\n",
              "         [ 1.4549134 ,  1.6850398 ,  0.9811238 ]]]], dtype=float32)>"
            ]
          },
          "metadata": {},
          "execution_count": 46
        }
      ]
    },
    {
      "cell_type": "code",
      "source": [],
      "metadata": {
        "id": "2uAf7iJlUrk1"
      },
      "execution_count": null,
      "outputs": []
    }
  ]
}